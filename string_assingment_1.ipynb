{
 "cells": [
  {
   "cell_type": "markdown",
   "id": "6c3c21a1-c9b1-4059-b1b6-0a19b7e7513b",
   "metadata": {},
   "source": [
    "### 20/6/2024"
   ]
  },
  {
   "cell_type": "markdown",
   "id": "5f27f347-3989-4081-84f9-83bb0767b502",
   "metadata": {},
   "source": [
    "# Q1)find the length of given string(by user) (without len())\n"
   ]
  },
  {
   "cell_type": "code",
   "execution_count": 6,
   "id": "872b0527-dbec-4a54-a63e-d185b1ebdd7e",
   "metadata": {},
   "outputs": [
    {
     "name": "stdin",
     "output_type": "stream",
     "text": [
      "enter string prasad\n"
     ]
    },
    {
     "name": "stdout",
     "output_type": "stream",
     "text": [
      "length of string is  6\n"
     ]
    }
   ],
   "source": [
    "s1=input(\"enter string\")\n",
    "count=0\n",
    "for i in s1:\n",
    "    count+=1\n",
    "print(\"length of string is \",count)"
   ]
  },
  {
   "cell_type": "markdown",
   "id": "b69fd3c3-0b27-4dfa-8fa6-b8e071d93be2",
   "metadata": {},
   "source": [
    "# Q2) extract userid from given mail id ex:- if a mailid is chetan24jagtap@gmail.com then only username should be display"
   ]
  },
  {
   "cell_type": "code",
   "execution_count": 9,
   "id": "a7cd19b5-7f7a-434f-99d6-e8cc8e843c24",
   "metadata": {},
   "outputs": [
    {
     "name": "stdin",
     "output_type": "stream",
     "text": [
      "enter email id  prasad123@gmail.com\n"
     ]
    },
    {
     "name": "stdout",
     "output_type": "stream",
     "text": [
      "prasad123\n"
     ]
    }
   ],
   "source": [
    "m_id=input(\"enter email id \")\n",
    "posi= m_id.index(\"@\")\n",
    "print(m_id[0:posi])"
   ]
  },
  {
   "cell_type": "markdown",
   "id": "c317c320-cff1-4bc7-b14c-d4e6ba005cf1",
   "metadata": {},
   "source": [
    "### Q3) count the frequency of perticular character in provided string Ex:- \"hello\" then the freq. of the \"h\" is 2 in this string"
   ]
  },
  {
   "cell_type": "code",
   "execution_count": 14,
   "id": "9a3d01df-60f0-417f-8af6-7f601d2bf204",
   "metadata": {},
   "outputs": [
    {
     "name": "stdin",
     "output_type": "stream",
     "text": [
      "enter the string prasad\n",
      "enter the char to have its frequency  a\n"
     ]
    },
    {
     "name": "stdout",
     "output_type": "stream",
     "text": [
      "The frequency of entered char is  2\n"
     ]
    }
   ],
   "source": [
    "ustr=input(\"enter the string\")\n",
    "repchar=input(\"enter the char to have its frequency \")\n",
    "counter = 0\n",
    "for i in ustr:\n",
    "    if i==repchar:\n",
    "        counter+=1\n",
    "print(\"The frequency of entered char is \",counter)"
   ]
  },
  {
   "cell_type": "markdown",
   "id": "0443e458-05b2-4c48-aeaf-1d55ac2ebd45",
   "metadata": {},
   "source": [
    "# Q4) WAP which can remove a perticular char from string"
   ]
  },
  {
   "cell_type": "code",
   "execution_count": 16,
   "id": "fd2da1bb-9fbf-4759-9a4b-90d88bddaebf",
   "metadata": {},
   "outputs": [
    {
     "name": "stdin",
     "output_type": "stream",
     "text": [
      "Enter a string  prasad\n",
      "enter char to remove from string a\n"
     ]
    },
    {
     "name": "stdout",
     "output_type": "stream",
     "text": [
      "prsd\n"
     ]
    }
   ],
   "source": [
    "## with using replace func()\n",
    "ustr=input(\"Enter a string \")\n",
    "rchar=input(\"enter char to remove from string\")\n",
    "print(ustr.replace(rchar,\"\"))"
   ]
  },
  {
   "cell_type": "code",
   "execution_count": 21,
   "id": "4b030fa2-ea90-4ea4-a703-2f8d1ee8cf73",
   "metadata": {},
   "outputs": [
    {
     "name": "stdin",
     "output_type": "stream",
     "text": [
      "enter string prasad\n",
      "enter char to remove from string a\n"
     ]
    },
    {
     "name": "stdout",
     "output_type": "stream",
     "text": [
      "prsd\n"
     ]
    }
   ],
   "source": [
    "## without using replace()\n",
    "s=input(\"enter string\")\n",
    "term= input(\"enter char to remove from string\")\n",
    "result=\"\"\n",
    "\n",
    "for i in s:\n",
    "      if i!= term:\n",
    "          result=result+i\n",
    "print(result)\n",
    "          \n",
    "    "
   ]
  },
  {
   "cell_type": "markdown",
   "id": "39bb5c8a-3725-4772-bb39-2094d3109fe5",
   "metadata": {},
   "source": [
    "## Q5) WAP that can check whether a given string is palindrome or not ex:- abba malyalam"
   ]
  },
  {
   "cell_type": "code",
   "execution_count": 1,
   "id": "b7fdecaf-30a2-478a-afb1-9bcb169a732e",
   "metadata": {},
   "outputs": [
    {
     "name": "stdin",
     "output_type": "stream",
     "text": [
      "Enter a string  saral\n"
     ]
    },
    {
     "name": "stdout",
     "output_type": "stream",
     "text": [
      "NOT palindrome string \n"
     ]
    }
   ],
   "source": [
    " def isPalindrome(s):\n",
    "      return s == s[::-1]\n",
    "     \n",
    " s = input(\"Enter a string \")\n",
    " \n",
    "ans = isPalindrome(s)\n",
    "\n",
    " if ans:\n",
    "          print(\"Yes string is palindrome\")\n",
    " else :\n",
    "          print(\"NOT palindrome string \")"
   ]
  },
  {
   "cell_type": "markdown",
   "id": "2b4a5e32-5d71-44e3-b64e-2762df8e1418",
   "metadata": {},
   "source": [
    "## Q6) WAP to count the number of words in a string without split()"
   ]
  },
  {
   "cell_type": "code",
   "execution_count": 4,
   "id": "7d22253a-7dea-4a64-9e85-50b35c9d1a41",
   "metadata": {},
   "outputs": [
    {
     "name": "stdin",
     "output_type": "stream",
     "text": [
      "Enter the string how are you all\n"
     ]
    },
    {
     "name": "stdout",
     "output_type": "stream",
     "text": [
      "how are you all\n",
      "The total words in string  are   4\n"
     ]
    }
   ],
   "source": [
    "str=input(\"Enter the string\")\n",
    "counter=0\n",
    "totword=0\n",
    "for i in str:\n",
    "    print(i,end=\"\")\n",
    "    totword+=1\n",
    "    counter= str.count(\" \")+1\n",
    "print()\n",
    "if str[0]==\" \":\n",
    "     counter-=1\n",
    "elif str[totword-1]==\" \":\n",
    "     counter-=1\n",
    "print(\"The total words in string  are  \",counter)\n"
   ]
  },
  {
   "cell_type": "markdown",
   "id": "acc21e68-e5ce-4d92-952c-abd6681ef7e1",
   "metadata": {},
   "source": [
    "## Q7) WAP to convert a string to title case without using the title()"
   ]
  },
  {
   "cell_type": "code",
   "execution_count": 1,
   "id": "228bfd8c-d676-4c8b-9252-ca6d570ad05e",
   "metadata": {},
   "outputs": [
    {
     "name": "stdin",
     "output_type": "stream",
     "text": [
      "ENTER THE STRING prasad sudame\n"
     ]
    },
    {
     "name": "stdout",
     "output_type": "stream",
     "text": [
      "Prasad Sudame \n"
     ]
    }
   ],
   "source": [
    "a=input(\"ENTER THE STRING\")\n",
    "y=a.split()\n",
    "r = ''\n",
    "for i in y:\n",
    "    r = r+i[0].upper()+i[1:].lower()+' '    \n",
    "print(r)\n"
   ]
  },
  {
   "cell_type": "code",
   "execution_count": null,
   "id": "0cf03c3a-3000-4a86-bc1f-fe8fbb409f72",
   "metadata": {},
   "outputs": [],
   "source": []
  },
  {
   "cell_type": "code",
   "execution_count": null,
   "id": "fcfc52a1-5f83-448b-af75-7ec7f987ebbd",
   "metadata": {},
   "outputs": [],
   "source": []
  }
 ],
 "metadata": {
  "kernelspec": {
   "display_name": "Python 3 (ipykernel)",
   "language": "python",
   "name": "python3"
  },
  "language_info": {
   "codemirror_mode": {
    "name": "ipython",
    "version": 3
   },
   "file_extension": ".py",
   "mimetype": "text/x-python",
   "name": "python",
   "nbconvert_exporter": "python",
   "pygments_lexer": "ipython3",
   "version": "3.11.7"
  }
 },
 "nbformat": 4,
 "nbformat_minor": 5
}
