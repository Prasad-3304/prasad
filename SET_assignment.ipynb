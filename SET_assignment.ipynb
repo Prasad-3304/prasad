{
 "cells": [
  {
   "cell_type": "markdown",
   "id": "eeadeba9-7497-43cd-9884-f277a54d2b1b",
   "metadata": {},
   "source": [
    "# SET"
   ]
  },
  {
   "cell_type": "markdown",
   "id": "55a65a8b-fd7a-4a50-81c3-29dac472db66",
   "metadata": {},
   "source": [
    "# Q1) Write a program to find set of common elements in three list's using sets"
   ]
  },
  {
   "cell_type": "code",
   "execution_count": 1,
   "id": "4df739f2-716e-4fa5-8d91-083ea37da363",
   "metadata": {},
   "outputs": [
    {
     "name": "stdout",
     "output_type": "stream",
     "text": [
      "{80, 20}\n"
     ]
    }
   ],
   "source": [
    "\n",
    "def find_common(list1, list2, list3):\n",
    "    common = set()\n",
    "    for elem in list1:\n",
    "        if elem in list2 and elem in list3:\n",
    "            common.add(elem)\n",
    "    return common\n",
    " \n",
    "list1 = [1, 5, 10, 20, 40, 80]\n",
    "list2 = [6, 7, 20, 80, 100]\n",
    "list3 = [3, 4, 15, 20, 30, 70, 80, 120]\n",
    " \n",
    "common = find_common(list1, list2, list3)\n",
    "print(common)\n"
   ]
  },
  {
   "cell_type": "markdown",
   "id": "f923fd6b-5925-4f43-89a2-29336ec9f070",
   "metadata": {},
   "source": [
    "# Q2) write a program to count unique no of vowels using sets in given string lowercase & uppercase vowels will be taken as different"
   ]
  },
  {
   "cell_type": "code",
   "execution_count": 2,
   "id": "588fde91-a5df-415b-8062-78b6bebf3526",
   "metadata": {},
   "outputs": [
    {
     "name": "stdout",
     "output_type": "stream",
     "text": [
      "No. of vowels : 28\n"
     ]
    }
   ],
   "source": [
    "def vowel_count(str):\n",
    "    count = 0\n",
    "    vowel = set(\"aeiouAEIOU\")\n",
    "    for alphabet in str:\n",
    "        if alphabet in vowel:\n",
    "            count = count + 1\n",
    "     \n",
    "    print(\"No. of vowels :\", count)\n",
    "     \n",
    "str = \"hands on data science mentorship progrAm with live classes at affordable fee only on CampusX\"\n",
    " \n",
    "# Function Call\n",
    "vowel_count(str)"
   ]
  },
  {
   "cell_type": "markdown",
   "id": "14e0d1c0-9a0f-4540-9254-5cc557022be2",
   "metadata": {},
   "source": [
    "# Q3) write a program to check if a given string is binary string of or not"
   ]
  },
  {
   "cell_type": "code",
   "execution_count": 3,
   "id": "7743d8d8-90e8-4671-9b09-ca813aa12e35",
   "metadata": {},
   "outputs": [
    {
     "name": "stdout",
     "output_type": "stream",
     "text": [
      "Yes\n"
     ]
    }
   ],
   "source": [
    "def check(string):\n",
    "    p = set(string)\n",
    "    s = {'0', '1'}\n",
    "    if s == p or p == {'0'} or p == {'1'}:\n",
    "        print(\"Yes\")\n",
    "    else:\n",
    "        print(\"No\")\n",
    " \n",
    "if __name__ == \"__main__\":\n",
    " \n",
    "    string = \"101010000111\"\n",
    " \n",
    "    check(string)"
   ]
  },
  {
   "cell_type": "markdown",
   "id": "6d00d5bd-96e0-4635-8993-cdec4986529c",
   "metadata": {},
   "source": [
    "# Q4) find union of n arrays "
   ]
  },
  {
   "cell_type": "code",
   "execution_count": 4,
   "id": "75802af8-0786-4837-9a12-efda352f275c",
   "metadata": {},
   "outputs": [
    {
     "name": "stdout",
     "output_type": "stream",
     "text": [
      "[1, 2, 3, 4, 5, 6, 7, 9]\n"
     ]
    }
   ],
   "source": [
    "arrays = [[1, 2, 2, 4,3, 6], [5, 1, 3, 4], [9, 5, 7, 1],[2,4,1,3]]\n",
    "result = set()\n",
    "for array in arrays:\n",
    "   result.update(array)\n",
    "\n",
    "print(list(result))\n",
    "\n"
   ]
  },
  {
   "cell_type": "markdown",
   "id": "26cc6b8f-80b2-49ad-a55f-452ec9710d7d",
   "metadata": {},
   "source": [
    "# Q5) intersection of two list means we need to take all those elements which are common to both of the initial lists and store them into another list."
   ]
  },
  {
   "cell_type": "code",
   "execution_count": 5,
   "id": "d06b7be1-222b-4025-a00c-dea43efa63bf",
   "metadata": {},
   "outputs": [
    {
     "name": "stdout",
     "output_type": "stream",
     "text": [
      "[9, 10, 4, 5]\n"
     ]
    }
   ],
   "source": [
    "def intersection(lst1, lst2):\n",
    "    return list(set(lst1) & set(lst2))\n",
    " \n",
    "lst1 = [15, 9, 10, 56, 23, 78, 5, 4, 9]\n",
    "lst2 = [9, 4, 5, 36, 47, 26, 10, 45, 87]\n",
    "print(intersection(lst1, lst2))"
   ]
  },
  {
   "cell_type": "code",
   "execution_count": null,
   "id": "c94eeecd-3f6f-4077-a8e6-d8013982d318",
   "metadata": {},
   "outputs": [],
   "source": []
  }
 ],
 "metadata": {
  "kernelspec": {
   "display_name": "Python 3 (ipykernel)",
   "language": "python",
   "name": "python3"
  },
  "language_info": {
   "codemirror_mode": {
    "name": "ipython",
    "version": 3
   },
   "file_extension": ".py",
   "mimetype": "text/x-python",
   "name": "python",
   "nbconvert_exporter": "python",
   "pygments_lexer": "ipython3",
   "version": "3.11.7"
  }
 },
 "nbformat": 4,
 "nbformat_minor": 5
}
