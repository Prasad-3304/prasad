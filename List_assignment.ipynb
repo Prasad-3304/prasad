{
 "cells": [
  {
   "cell_type": "markdown",
   "id": "75506ae7-b508-41b7-afeb-c494687dad74",
   "metadata": {},
   "source": [
    "# Q1) create two lists from a given list where 1st list will contain all the odd numbers from the original list & 2nd list will contain even numbers L=[1,2,3,4,5,6]"
   ]
  },
  {
   "cell_type": "code",
   "execution_count": 26,
   "id": "cd789d27-4d7c-4b63-b9f8-e1baad3bd30e",
   "metadata": {},
   "outputs": [
    {
     "name": "stdout",
     "output_type": "stream",
     "text": [
      "list1:     [1, 2, 3, 4, 5, 6]\n",
      "listEven:  [2, 4, 6]\n",
      "listOdd:   [1, 3, 5]\n"
     ]
    }
   ],
   "source": [
    "L=[1,2,3,4,5,6]\n",
    "listOdd = []\n",
    "listEven = []\n",
    "for num in L:\n",
    "    if num % 2 == 0:\n",
    "        listEven.append(num)\n",
    "    else:\n",
    "        listOdd.append(num)\n",
    "\n",
    "# print lists\n",
    "print(\"list1:    \", L)\n",
    "print(\"listEven: \", listEven)\n",
    "print(\"listOdd:  \", listOdd)\n",
    "\n"
   ]
  },
  {
   "cell_type": "markdown",
   "id": "ebdc0780-1c92-4d99-bfe2-b3ffaba1ed6d",
   "metadata": {},
   "source": [
    "# Q2) Take input from user display list "
   ]
  },
  {
   "cell_type": "code",
   "execution_count": 16,
   "id": "98083226-b694-4a4f-94b2-884152452884",
   "metadata": {},
   "outputs": [
    {
     "name": "stdin",
     "output_type": "stream",
     "text": [
      "enter digits 12345\n"
     ]
    },
    {
     "name": "stdout",
     "output_type": "stream",
     "text": [
      "['1', '2', '3', '4', '5']\n"
     ]
    }
   ],
   "source": [
    "l=input(\"enter digits\")\n",
    "print(list(l))"
   ]
  },
  {
   "cell_type": "markdown",
   "id": "dc5e3ac0-9ffe-43c8-86d6-98135b5de22a",
   "metadata": {},
   "source": [
    "# Q3) merge 2 list without using + operator"
   ]
  },
  {
   "cell_type": "code",
   "execution_count": 11,
   "id": "05c3b8eb-275a-4765-b0b0-443c05b431e6",
   "metadata": {},
   "outputs": [
    {
     "name": "stdout",
     "output_type": "stream",
     "text": [
      "[1, 2, 3, 4, 5, 6, 7, 8, 9, 10]\n"
     ]
    }
   ],
   "source": [
    "L1=[1,2,3,4,5]\n",
    "L2=[6,7,8,9,10]\n",
    "L3=[]\n",
    "for i in range(1,11):\n",
    "    L3.append(i)\n",
    "print(L3)"
   ]
  },
  {
   "cell_type": "markdown",
   "id": "024ab684-92a6-4165-be83-d348b8415c19",
   "metadata": {},
   "source": [
    "# Q4)  WAP to replace an item with different item ex:- 3 to 300"
   ]
  },
  {
   "cell_type": "code",
   "execution_count": 15,
   "id": "e3aa60ee-b037-45a7-9621-c1c05e9e5732",
   "metadata": {},
   "outputs": [
    {
     "name": "stdout",
     "output_type": "stream",
     "text": [
      "[1, 2, 300, 4, 5, 6]\n"
     ]
    }
   ],
   "source": [
    "L=[1,2,3,4,5,6]\n",
    "L.remove(3)\n",
    "L.insert(2,300)\n",
    "print(L)"
   ]
  },
  {
   "cell_type": "markdown",
   "id": "10568c44-86a6-4479-b772-e42c23285eee",
   "metadata": {},
   "source": [
    "# Q5) Convert 2D list into 1D list "
   ]
  },
  {
   "cell_type": "code",
   "execution_count": null,
   "id": "41d8f6f8-808f-4041-8b33-579d7b40d490",
   "metadata": {},
   "outputs": [],
   "source": []
  },
  {
   "cell_type": "markdown",
   "id": "108e9c55-d5e6-46f5-b7a7-877c27fb4f10",
   "metadata": {},
   "source": [
    "# Q6) Remove duplicate items from list "
   ]
  },
  {
   "cell_type": "code",
   "execution_count": 25,
   "id": "5b23a215-f8b4-42ac-88cc-0ffa90d5d2cb",
   "metadata": {},
   "outputs": [
    {
     "name": "stdout",
     "output_type": "stream",
     "text": [
      "The original list is : [1, 2, 1, 2, 3, 4, 5, 3, 4]\n",
      "The list after removing duplicates : [1, 2, 3, 4, 5]\n"
     ]
    }
   ],
   "source": [
    "list = [1, 2, 1, 2, 3, 4, 5, 3,4]\n",
    "print(\"The original list is : \"+ str(list))\n",
    "res = []\n",
    "[res.append(x) for x in list if x not in res]\n",
    "\n",
    "print (\"The list after removing duplicates : \" + str(res))\n"
   ]
  },
  {
   "cell_type": "markdown",
   "id": "42d78c50-c93a-461a-966c-ef703de300cb",
   "metadata": {},
   "source": [
    "# Q7) Write a program to check is list in ascending order or not \n"
   ]
  },
  {
   "cell_type": "code",
   "execution_count": 24,
   "id": "4885116c-a3b2-4075-9dd0-00f05ac69d41",
   "metadata": {},
   "outputs": [
    {
     "name": "stdout",
     "output_type": "stream",
     "text": [
      "The list in ascending order\n",
      "list in descending order\n"
     ]
    }
   ],
   "source": [
    "l1=[1,2,3,4,5]\n",
    "l2=[8,5,0,9,7,4]\n",
    "tl=l1[:]\n",
    "l1.sort()\n",
    "if tl==l1:\n",
    "    print(\"The list in ascending order\")\n",
    "else:\n",
    "    print(\"list in descending order\")\n",
    "\n",
    "if tl==l2:\n",
    "    print(\"The list in ascending order\")\n",
    "else:\n",
    "    print(\"list in descending order\")\n"
   ]
  },
  {
   "cell_type": "code",
   "execution_count": null,
   "id": "ff62dac1-959b-4dfb-9156-e0f9b42c9e70",
   "metadata": {},
   "outputs": [],
   "source": []
  }
 ],
 "metadata": {
  "kernelspec": {
   "display_name": "Python 3 (ipykernel)",
   "language": "python",
   "name": "python3"
  },
  "language_info": {
   "codemirror_mode": {
    "name": "ipython",
    "version": 3
   },
   "file_extension": ".py",
   "mimetype": "text/x-python",
   "name": "python",
   "nbconvert_exporter": "python",
   "pygments_lexer": "ipython3",
   "version": "3.11.7"
  }
 },
 "nbformat": 4,
 "nbformat_minor": 5
}
