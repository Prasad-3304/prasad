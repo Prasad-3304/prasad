{
 "cells": [
  {
   "cell_type": "markdown",
   "id": "aff038da-b2fc-4042-b620-d20aef977aaf",
   "metadata": {},
   "source": [
    "# Q1) Join tuples if similar initial element "
   ]
  },
  {
   "cell_type": "code",
   "execution_count": 1,
   "id": "c7d1b4f4-a8e7-42f7-a2a3-3f3c29047305",
   "metadata": {},
   "outputs": [
    {
     "name": "stdout",
     "output_type": "stream",
     "text": [
      "The original list is : [(5, 6), (5, 7), (6, 8), (6, 10), (7, 13)]\n",
      "The extracted elements : [(5, 6, 7), (6, 8, 10), (7, 13)]\n"
     ]
    }
   ],
   "source": [
    "test_list = [(5, 6), (5, 7), (6, 8), (6, 10), (7, 13)]\n",
    "print(\"The original list is : \" + str(test_list))\n",
    "res = []\n",
    "for sub in test_list:\n",
    "    if res and res[-1][0] == sub[0]:\n",
    "        res[-1].extend(sub[1:])\n",
    "    else:\n",
    "        res.append([ele for ele in sub])\n",
    "res = list(map(tuple, res))\n",
    "print(\"The extracted elements : \" + str(res))"
   ]
  },
  {
   "cell_type": "markdown",
   "id": "c8b3a51a-5448-4cdd-befd-e7b903a509d7",
   "metadata": {},
   "source": [
    "# Q2) Multiply adjecent elements (both side) and taken sum of right and left side multiplication result "
   ]
  },
  {
   "cell_type": "code",
   "execution_count": 3,
   "id": "7df63052-356b-444d-bf7f-c0427dfc5ad5",
   "metadata": {},
   "outputs": [
    {
     "name": "stdout",
     "output_type": "stream",
     "text": [
      "The original tuple : (1, 5, 7, 8, 10)\n",
      "Result tuple after multiplication : (5, 35, 56, 80)\n"
     ]
    }
   ],
   "source": [
    "test_tup = (1, 5, 7, 8, 10) \n",
    "print(\"The original tuple : \" + str(test_tup)) \n",
    "res = tuple(i * j for i, j in zip(test_tup, test_tup[1:])) \n",
    "print(\"Result tuple after multiplication : \" + str(res)) "
   ]
  },
  {
   "cell_type": "markdown",
   "id": "c9328f7a-b26f-4f73-9bd9-15ce63e83b9d",
   "metadata": {},
   "source": [
    "# Q3) Check is tuples are same or not "
   ]
  },
  {
   "cell_type": "code",
   "execution_count": 4,
   "id": "42e7bfad-fca5-4df9-b9cc-690e2bb410d5",
   "metadata": {},
   "outputs": [
    {
     "name": "stdout",
     "output_type": "stream",
     "text": [
      "Both tuples are not same\n"
     ]
    }
   ],
   "source": [
    "t1=(1,2,3,0)\n",
    "t2=(0,1,2,3)\n",
    "if t1==t2:\n",
    "    print(\"Both tuples are same\")\n",
    "else:\n",
    "    print(\"Both tuples are not same\")"
   ]
  },
  {
   "cell_type": "markdown",
   "id": "34608f55-11a2-44ca-8cab-b0117543107e",
   "metadata": {},
   "source": [
    "# Q4) Count no of tuples list and set from a list"
   ]
  },
  {
   "cell_type": "code",
   "execution_count": 1,
   "id": "83f5e57c-1ecf-4b2a-9a84-a9d3a65df003",
   "metadata": {},
   "outputs": [
    {
     "name": "stdout",
     "output_type": "stream",
     "text": [
      "tuple ('a', 'b') occurs 2 times\n"
     ]
    }
   ],
   "source": [
    "\n",
    "Input = [('hi', 'bye'),('Geeks', 'forGeeks'),('a', 'b'),('hi', 'bye'),('a', 'b')]\n",
    "check_ele=('a', 'b') \n",
    "x=[i for i in Input if i==check_ele] \n",
    "print(\"tuple ('a', 'b') occurs\",len(x),\"times\")\n"
   ]
  },
  {
   "cell_type": "markdown",
   "id": "c5218503-2c30-4645-9a90-e0b9126c5bc7",
   "metadata": {},
   "source": [
    "# Q5) Shortlist students for a job role"
   ]
  },
  {
   "cell_type": "code",
   "execution_count": null,
   "id": "8a674ea6-f2e1-4efc-87a7-fd88bf063a23",
   "metadata": {},
   "outputs": [],
   "source": [
    "num_students = int(input(\"Enter the number of students: \"))\n",
    "students = []  \n",
    "for _ in range(num_students):\n",
    "    name = input(\"Enter student name: \")\n",
    "    primary_skill = input(\"Enter student's primary skill: \")\n",
    "    higher_education = input(\"Enter student's higher education: \")\n",
    "    year_of_graduation = int(input(\"Enter student's year of graduation: \"))\n",
    "    students.append((name, primary_skill, higher_education, year_of_graduation))\n",
    "\n",
    "desired_primary_skill = input(\"Enter the desired primary skill: \")\n",
    "desired_higher_education = input(\"Enter the desired higher education: \")\n",
    "desired_year_of_graduation = int(input(\"Enter the desired year of graduation: \"))\n",
    "\n",
    "found_match = False\n",
    "for student in students:\n",
    "    name, skill, education, graduation_year = student\n",
    "    if (\n",
    "        skill == desired_primary_skill\n",
    "        and education == desired_higher_education\n",
    "        and graduation_year == desired_year_of_graduation\n",
    "    ):\n",
    "        print(f\"Match found: {student}\")\n",
    "        found_match = True\n",
    "\n",
    "if not found_match:\n",
    "    print(\"No such candidate.\")"
   ]
  },
  {
   "cell_type": "code",
   "execution_count": null,
   "id": "fe551113-a015-4875-8c5b-b0d2b5c91841",
   "metadata": {},
   "outputs": [],
   "source": []
  }
 ],
 "metadata": {
  "kernelspec": {
   "display_name": "Python 3 (ipykernel)",
   "language": "python",
   "name": "python3"
  },
  "language_info": {
   "codemirror_mode": {
    "name": "ipython",
    "version": 3
   },
   "file_extension": ".py",
   "mimetype": "text/x-python",
   "name": "python",
   "nbconvert_exporter": "python",
   "pygments_lexer": "ipython3",
   "version": "3.11.7"
  }
 },
 "nbformat": 4,
 "nbformat_minor": 5
}
