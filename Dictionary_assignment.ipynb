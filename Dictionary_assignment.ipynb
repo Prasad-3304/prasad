{
 "cells": [
  {
   "cell_type": "markdown",
   "id": "2df5bb98-796a-4500-94b5-ab097d4b45df",
   "metadata": {},
   "source": [
    "# DICTIONARY"
   ]
  },
  {
   "cell_type": "markdown",
   "id": "4ff90ae7-f636-4f34-8c7e-25bc8f26d879",
   "metadata": {},
   "source": [
    "# Q1) Key with maximum unique values "
   ]
  },
  {
   "cell_type": "code",
   "execution_count": 1,
   "id": "5095f9bc-fe9e-4620-a81f-d15f83aa5988",
   "metadata": {},
   "outputs": [
    {
     "name": "stdout",
     "output_type": "stream",
     "text": [
      "The original dictionary is : {'CampusX': [5, 7, 5, 4, 5], 'is': [6, 7, 4, 3, 3], 'Best': [9, 9, 6, 5, 5]}\n",
      "Key with maximum unique values : is\n"
     ]
    }
   ],
   "source": [
    "test_dict = {\"CampusX\": [5, 7, 5, 4, 5],\n",
    "             \"is\": [6, 7, 4, 3, 3],\n",
    "             \"Best\": [9, 9, 6, 5, 5]}\n",
    "print(\"The original dictionary is : \" + str(test_dict))\n",
    " \n",
    "max_val = 0\n",
    "max_key = None\n",
    " \n",
    "for sub in test_dict:\n",
    "\n",
    "    if len(set(test_dict[sub])) > max_val:\n",
    "        max_val = len(set(test_dict[sub]))\n",
    "        max_key = sub\n",
    "\n",
    "print(\"Key with maximum unique values : \" + str(max_key))"
   ]
  },
  {
   "cell_type": "markdown",
   "id": "c64360c1-7727-41f5-a820-9eaec64f4c68",
   "metadata": {},
   "source": [
    "# Q2) Replace words from dictionary. Given string replace its words from lookup dictinory  "
   ]
  },
  {
   "cell_type": "code",
   "execution_count": 2,
   "id": "467af263-25f4-4508-84e9-e1b832d27c86",
   "metadata": {},
   "outputs": [
    {
     "name": "stdout",
     "output_type": "stream",
     "text": [
      "The original string is : CampusX best for DS student.\n",
      "Replaced Strings : CampusX is the best channel for Data-Science student.\n"
     ]
    }
   ],
   "source": [
    "test_str = 'CampusX best for DS student.'\n",
    " \n",
    "print(\"The original string is : \" + str(test_str))\n",
    " \n",
    "lookp_dict = {\"best\" : \"is the best channel\", \"DS\" : \"Data-Science\"}\n",
    " \n",
    "res = \" \".join(lookp_dict.get(ele, ele) for ele in test_str.split())\n",
    " \n",
    "print(\"Replaced Strings : \" + str(res)) "
   ]
  },
  {
   "cell_type": "markdown",
   "id": "b362eaa3-e43d-4681-9135-a1fe389fd7f7",
   "metadata": {},
   "source": [
    "# Q3) Convert list to list of dictionaries.Given list values and keys list convert these values to key value pairs in form of list of dictionaries"
   ]
  },
  {
   "cell_type": "code",
   "execution_count": 4,
   "id": "31ebaf32-307c-4e25-9224-89396ae9066a",
   "metadata": {},
   "outputs": [
    {
     "name": "stdout",
     "output_type": "stream",
     "text": [
      "The original list : ['Data-Science', 3, 'is', 8]\n",
      "The constructed dictionary list : [{'name': 'Data-Science', 'id': 3}, {'name': 'is', 'id': 8}]\n"
     ]
    }
   ],
   "source": [
    "test_list = [\"Data-Science\", 3, \"is\", 8]\n",
    " \n",
    "print(\"The original list : \" + str(test_list))\n",
    " \n",
    "key_list = [\"name\", \"id\"]\n",
    " \n",
    "n = len(test_list)\n",
    "res = []\n",
    "for idx in range(0, n, 2):\n",
    "    res.append({key_list[0]: test_list[idx], key_list[1] : test_list[idx + 1]})\n",
    " \n",
    "print(\"The constructed dictionary list : \" + str(res))"
   ]
  },
  {
   "cell_type": "markdown",
   "id": "21f58727-6d64-4c5a-b19c-60ac630ea399",
   "metadata": {},
   "source": [
    "# Q4) Convert a list of tuples into dictionaries"
   ]
  },
  {
   "cell_type": "code",
   "execution_count": 5,
   "id": "84816c4d-1ac9-4fed-9853-04f7d58aa211",
   "metadata": {},
   "outputs": [
    {
     "name": "stdout",
     "output_type": "stream",
     "text": [
      "{'akash': [10], 'gaurav': [12], 'anand': [14], 'suraj': [20], 'akhil': [25], 'ashish': [30]}\n"
     ]
    }
   ],
   "source": [
    "def Convert(tup, di):\n",
    "    for a, b in tup:\n",
    "        di.setdefault(a, []).append(b)\n",
    "    return di\n",
    " \n",
    "tups = [(\"akash\", 10), (\"gaurav\", 12), (\"anand\", 14),\n",
    "        (\"suraj\", 20), (\"akhil\", 25), (\"ashish\", 30)]\n",
    "dictionary = {}\n",
    "print(Convert(tups, dictionary))"
   ]
  },
  {
   "cell_type": "markdown",
   "id": "ea2c6d61-bcce-4c16-ba9a-fe06a86fd6d0",
   "metadata": {},
   "source": [
    "# Q5) Sort dictionary key and values list"
   ]
  },
  {
   "cell_type": "code",
   "execution_count": 6,
   "id": "a7bd4004-e1b8-42fc-a5d7-b1857bb506a3",
   "metadata": {},
   "outputs": [
    {
     "name": "stdout",
     "output_type": "stream",
     "text": [
      "The original dictionary is : {'gfg': [7, 6, 3], 'is': [2, 10, 3], 'best': [19, 4]}\n",
      "The sorted dictionary : {'best': [4, 19], 'gfg': [3, 6, 7], 'is': [2, 3, 10]}\n"
     ]
    }
   ],
   "source": [
    "test_dict = {'gfg': [7, 6, 3], \n",
    "             'is': [2, 10, 3], \n",
    "             'best': [19, 4]}\n",
    " \n",
    "print(\"The original dictionary is : \" + str(test_dict))\n",
    " \n",
    "res = dict()\n",
    "for key in sorted(test_dict):\n",
    "    res[key] = sorted(test_dict[key])\n",
    " \n",
    "print(\"The sorted dictionary : \" + str(res)) "
   ]
  },
  {
   "cell_type": "code",
   "execution_count": null,
   "id": "182ffda5-8870-4249-8308-9c4843068fef",
   "metadata": {},
   "outputs": [],
   "source": []
  }
 ],
 "metadata": {
  "kernelspec": {
   "display_name": "Python 3 (ipykernel)",
   "language": "python",
   "name": "python3"
  },
  "language_info": {
   "codemirror_mode": {
    "name": "ipython",
    "version": 3
   },
   "file_extension": ".py",
   "mimetype": "text/x-python",
   "name": "python",
   "nbconvert_exporter": "python",
   "pygments_lexer": "ipython3",
   "version": "3.11.7"
  }
 },
 "nbformat": 4,
 "nbformat_minor": 5
}
