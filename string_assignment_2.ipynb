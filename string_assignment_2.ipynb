{
 "cells": [
  {
   "cell_type": "markdown",
   "id": "f2898fcc-904d-4435-bd37-21bc21b4b2f8",
   "metadata": {},
   "source": [
    "### 21/06/24"
   ]
  },
  {
   "cell_type": "markdown",
   "id": "d5dc9506-6450-47a4-8fc9-e8e2eefd7a89",
   "metadata": {},
   "source": [
    "# Q1) Reverse the user given integer "
   ]
  },
  {
   "cell_type": "code",
   "execution_count": 1,
   "id": "19f515e1-d967-43d2-b3da-a8e341bc310b",
   "metadata": {},
   "outputs": [
    {
     "name": "stdin",
     "output_type": "stream",
     "text": [
      "ENETR Integer 42526\n"
     ]
    },
    {
     "name": "stdout",
     "output_type": "stream",
     "text": [
      "['6', '5', '4', '2', '2']\n"
     ]
    }
   ],
   "source": [
    "udigit=input(\"ENETR Integer\")\n",
    "print(sorted(udigit,reverse=True))"
   ]
  },
  {
   "cell_type": "markdown",
   "id": "52291b9d-eb97-4857-9de7-35dab997418d",
   "metadata": {},
   "source": [
    "# Q2) take angles input from user and tell is triangle can form or not"
   ]
  },
  {
   "cell_type": "code",
   "execution_count": 7,
   "id": "d9eeb1d8-e9fa-4bfb-acef-b1daf6ba32fa",
   "metadata": {},
   "outputs": [
    {
     "name": "stdin",
     "output_type": "stream",
     "text": [
      "Enter 3 angles measurement NOW enter angle 1 measurement 90\n",
      "enter angle 2 measurement 10\n",
      "enter angle 3 measurement 90\n"
     ]
    },
    {
     "name": "stdout",
     "output_type": "stream",
     "text": [
      "Triangle can't form\n"
     ]
    }
   ],
   "source": [
    "s1=int(input(\"Enter 3 angles measurement NOW enter angle 1 measurement\"))\n",
    "s2=int(input(\"enter angle 2 measurement\"))\n",
    "s3=int(input(\"enter angle 3 measurement\"))\n",
    "if s1+s2+s3==180:\n",
    "    print(\"Triangle can form\")\n",
    "else:\n",
    "    print(\"Triangle can't form\")\n",
    "    "
   ]
  },
  {
   "cell_type": "markdown",
   "id": "9187d2b6-8ca5-40f8-a5fe-bd878e78723a",
   "metadata": {},
   "source": [
    "# Q3) write a program user enters cost and selling price of product determine then whether it is loss or profit"
   ]
  },
  {
   "cell_type": "code",
   "execution_count": 9,
   "id": "433d604f-80ae-4dbd-9e46-0f5bb11dc548",
   "metadata": {},
   "outputs": [
    {
     "name": "stdin",
     "output_type": "stream",
     "text": [
      "ENTER COST PRICE  30\n",
      "Enter SELLING Price  10\n"
     ]
    },
    {
     "name": "stdout",
     "output_type": "stream",
     "text": [
      "ITS LOSS!\n"
     ]
    }
   ],
   "source": [
    "cosp=input(\"ENTER COST PRICE \")\n",
    "sellp=input(\"Enter SELLING Price \")\n",
    "if cosp>sellp:\n",
    "    print(\"ITS LOSS!\")\n",
    "elif cosp<sellp:\n",
    "    print(\"WOH ITS PROFIT\")\n",
    "    "
   ]
  },
  {
   "cell_type": "markdown",
   "id": "aa9ddf9b-0b0f-45e9-992a-0ec4344b5ee5",
   "metadata": {},
   "source": [
    "### Q4) WAP to print this pattern 5 4 3 2 1\n",
    "                                  4 3 2 1\n",
    "                                  3 2 1\n",
    "                                  2 1 \n",
    "                                  1"
   ]
  },
  {
   "cell_type": "code",
   "execution_count": 1,
   "id": "c48f0c19-916c-4f55-bb04-9174fedc78be",
   "metadata": {},
   "outputs": [
    {
     "name": "stdout",
     "output_type": "stream",
     "text": [
      "54321\n",
      "4321\n",
      "321\n",
      "21\n",
      "1\n"
     ]
    }
   ],
   "source": [
    "    def print_pattern(n): \n",
    "        for i in range(n, 0, -1): \n",
    "            for j in range(i, 0, -1): \n",
    "                print(j, end='') \n",
    "            print() \n",
    "     \n",
    "    n = 5 \n",
    "    print_pattern(n) "
   ]
  },
  {
   "cell_type": "markdown",
   "id": "77c157bf-027c-477b-85b8-a856eee786c2",
   "metadata": {},
   "source": [
    "# Q5) WAP to find factorial of given no   "
   ]
  },
  {
   "cell_type": "code",
   "execution_count": 8,
   "id": "8ddcb778-9282-4620-a2d5-0fe4782951fe",
   "metadata": {},
   "outputs": [
    {
     "name": "stdin",
     "output_type": "stream",
     "text": [
      "Enter a number:  3\n"
     ]
    },
    {
     "name": "stdout",
     "output_type": "stream",
     "text": [
      "The factorial of 3 is 6\n"
     ]
    }
   ],
   "source": [
    "    num = int(input(\"Enter a number: \"))    \n",
    "    factorial = 1    \n",
    "    if num < 0:    \n",
    "       print(\" Factorial does not exist for negative numbers\")    \n",
    "    elif num == 0:    \n",
    "       print(\"The factorial of 0 is 1\")    \n",
    "    else:    \n",
    "       for i in range(1,num + 1):    \n",
    "           factorial = factorial*i    \n",
    "       print(\"The factorial of\",num,\"is\",factorial)    "
   ]
  },
  {
   "cell_type": "markdown",
   "id": "2d1a1fc1-61a7-45b0-ab24-05eae2f8a321",
   "metadata": {},
   "source": [
    "# Q6) find the fibonacci series upto 10  terms "
   ]
  },
  {
   "cell_type": "code",
   "execution_count": 11,
   "id": "ce9c3e20-50b6-4f72-9780-6760a0a21248",
   "metadata": {},
   "outputs": [
    {
     "name": "stdin",
     "output_type": "stream",
     "text": [
      "How many terms?  8\n"
     ]
    },
    {
     "name": "stdout",
     "output_type": "stream",
     "text": [
      "Fibonacci sequence:\n",
      "0\n",
      "1\n",
      "1\n",
      "2\n",
      "3\n",
      "5\n",
      "8\n",
      "13\n"
     ]
    }
   ],
   "source": [
    "nterms = int(input(\"How many terms? \"))\n",
    "n1, n2 = 0, 1\n",
    "count = 0\n",
    "if nterms <= 0:\n",
    "   print(\"Please enter a positive integer\")\n",
    "elif nterms == 1:\n",
    "   print(\"Fibonacci sequence upto\",nterms,\":\")\n",
    "   print(n1)\n",
    "else:\n",
    "   print(\"Fibonacci sequence:\")\n",
    "   while count < nterms:\n",
    "       print(n1)\n",
    "       nth = n1 + n2\n",
    "       \n",
    "       n1 = n2\n",
    "       n2 = nth\n",
    "       count += 1"
   ]
  },
  {
   "cell_type": "markdown",
   "id": "12f5f92e-4af4-4d9e-b7d5-bdbaaddfa36b",
   "metadata": {},
   "source": [
    "# Q7) "
   ]
  },
  {
   "cell_type": "code",
   "execution_count": null,
   "id": "ee62bd24-4c46-4b44-8edd-653569db1214",
   "metadata": {},
   "outputs": [],
   "source": [
    "menu=int(input(\"\"\"\n",
    "Select below options:\n",
    "1.CM to FT\n",
    "2. KM to Miles \n",
    "3.USD to INR \n",
    "4.EXIT\n",
    " \"\"\"))\n",
    "if(menu==1):\n",
    "  cm =float(input(\"Enter Cm \"))\n",
    "  ft = cm*0.033\n",
    "  print(\"Feet = \",ft)\n",
    "elif(menu==2):\n",
    "    km = int(input(\"enter km\"))\n",
    "    miles = km*0.62\n",
    "    print(\"miles =\",miles)\n",
    "elif(menu==3):\n",
    "    usd=int(input(\"enter $ amount\"))\n",
    "    inr = usd*83.35\n",
    "    print(\"INR =\",inr)\n",
    "else: \n",
    "  exit()\n"
   ]
  }
 ],
 "metadata": {
  "kernelspec": {
   "display_name": "Python 3 (ipykernel)",
   "language": "python",
   "name": "python3"
  },
  "language_info": {
   "codemirror_mode": {
    "name": "ipython",
    "version": 3
   },
   "file_extension": ".py",
   "mimetype": "text/x-python",
   "name": "python",
   "nbconvert_exporter": "python",
   "pygments_lexer": "ipython3",
   "version": "3.11.7"
  }
 },
 "nbformat": 4,
 "nbformat_minor": 5
}
